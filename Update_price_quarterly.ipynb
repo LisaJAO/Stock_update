{
 "cells": [
  {
   "cell_type": "code",
   "execution_count": 2,
   "metadata": {},
   "outputs": [
    {
     "name": "stdout",
     "output_type": "stream",
     "text": [
      "1101\n",
      "2330\n"
     ]
    }
   ],
   "source": [
    "from io import StringIO\n",
    "import pandas as pd\n",
    "import requests\n",
    "import time\n",
    "import os\n",
    "\n",
    "res = requests.get('https://mops.twse.com.tw/server-java/t164sb01?step=1&CO_ID=1101&SYEAR=2017&SSEASON=3&REPORT_ID=C')\n",
    "res.encoding = 'big5'\n",
    "dfs = pd.read_html(StringIO(res.text))\n",
    "if 'Update_price_quarterly' not in os.listdir():\n",
    "    os.mkdir('Update_price_quarterly')\n",
    "\n",
    "sid = ['1101', '2330']  # 想要爬的股票代號\n",
    "for s in sid:\n",
    "    res = requests.get('https://mops.twse.com.tw/server-java/t164sb01?step=1&CO_ID=' + s + '&SYEAR=2017&SSEASON=3&REPORT_ID=C')\n",
    "    res.encoding = 'big5'\n",
    "    path = os.path.join('Update_price_quarterly', s + '.html')\n",
    "    f = open(path, 'w', encoding='Big5')\n",
    "    f.write(res.text)\n",
    "    f.close()\n",
    "    print(s)\n",
    "    time.sleep(20)"
   ]
  },
  {
   "cell_type": "code",
   "execution_count": null,
   "metadata": {},
   "outputs": [],
   "source": []
  }
 ],
 "metadata": {
  "kernelspec": {
   "display_name": "Python 3",
   "language": "python",
   "name": "python3"
  },
  "language_info": {
   "codemirror_mode": {
    "name": "ipython",
    "version": 3
   },
   "file_extension": ".py",
   "mimetype": "text/x-python",
   "name": "python",
   "nbconvert_exporter": "python",
   "pygments_lexer": "ipython3",
   "version": "3.7.3"
  }
 },
 "nbformat": 4,
 "nbformat_minor": 2
}
